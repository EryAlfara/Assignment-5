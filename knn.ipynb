{
 "cells": [
  {
   "cell_type": "code",
   "execution_count": 1,
   "id": "9e5b80e6",
   "metadata": {},
   "outputs": [],
   "source": [
    "import numpy as np\n",
    "import matplotlib.pyplot as plt\n",
    "import pandas as pd"
   ]
  },
  {
   "cell_type": "code",
   "execution_count": 2,
   "id": "33ea557c",
   "metadata": {},
   "outputs": [],
   "source": [
    "dataset = pd.read_csv(\"Employee Salaries Datatset.csv\")"
   ]
  },
  {
   "cell_type": "code",
   "execution_count": 3,
   "id": "723fcc15",
   "metadata": {},
   "outputs": [
    {
     "data": {
      "text/html": [
       "<div>\n",
       "<style scoped>\n",
       "    .dataframe tbody tr th:only-of-type {\n",
       "        vertical-align: middle;\n",
       "    }\n",
       "\n",
       "    .dataframe tbody tr th {\n",
       "        vertical-align: top;\n",
       "    }\n",
       "\n",
       "    .dataframe thead th {\n",
       "        text-align: right;\n",
       "    }\n",
       "</style>\n",
       "<table border=\"1\" class=\"dataframe\">\n",
       "  <thead>\n",
       "    <tr style=\"text-align: right;\">\n",
       "      <th></th>\n",
       "      <th>Salary</th>\n",
       "      <th>Gender</th>\n",
       "      <th>Age</th>\n",
       "      <th>PhD</th>\n",
       "    </tr>\n",
       "  </thead>\n",
       "  <tbody>\n",
       "    <tr>\n",
       "      <th>0</th>\n",
       "      <td>140.0</td>\n",
       "      <td>1</td>\n",
       "      <td>47</td>\n",
       "      <td>1</td>\n",
       "    </tr>\n",
       "    <tr>\n",
       "      <th>1</th>\n",
       "      <td>30.0</td>\n",
       "      <td>0</td>\n",
       "      <td>65</td>\n",
       "      <td>1</td>\n",
       "    </tr>\n",
       "    <tr>\n",
       "      <th>2</th>\n",
       "      <td>35.1</td>\n",
       "      <td>0</td>\n",
       "      <td>56</td>\n",
       "      <td>0</td>\n",
       "    </tr>\n",
       "    <tr>\n",
       "      <th>3</th>\n",
       "      <td>30.0</td>\n",
       "      <td>1</td>\n",
       "      <td>23</td>\n",
       "      <td>0</td>\n",
       "    </tr>\n",
       "    <tr>\n",
       "      <th>4</th>\n",
       "      <td>80.0</td>\n",
       "      <td>0</td>\n",
       "      <td>53</td>\n",
       "      <td>1</td>\n",
       "    </tr>\n",
       "  </tbody>\n",
       "</table>\n",
       "</div>"
      ],
      "text/plain": [
       "   Salary  Gender  Age  PhD\n",
       "0   140.0       1   47    1\n",
       "1    30.0       0   65    1\n",
       "2    35.1       0   56    0\n",
       "3    30.0       1   23    0\n",
       "4    80.0       0   53    1"
      ]
     },
     "execution_count": 3,
     "metadata": {},
     "output_type": "execute_result"
    }
   ],
   "source": [
    "dataset.head()"
   ]
  },
  {
   "cell_type": "code",
   "execution_count": 4,
   "id": "9c9d0cc9",
   "metadata": {},
   "outputs": [],
   "source": [
    "x = dataset.iloc[:, [0,2]].values\n",
    "y = dataset.iloc[:, -1].values"
   ]
  },
  {
   "cell_type": "code",
   "execution_count": 5,
   "id": "d2d411a6",
   "metadata": {},
   "outputs": [
    {
     "name": "stdout",
     "output_type": "stream",
     "text": [
      "[[140.    47.  ]\n",
      " [ 30.    65.  ]\n",
      " [ 35.1   56.  ]\n",
      " [ 30.    23.  ]\n",
      " [ 80.    53.  ]\n",
      " [ 30.    27.  ]\n",
      " [ 60.    53.  ]\n",
      " [ 31.1   30.  ]\n",
      " [125.    44.  ]\n",
      " [ 51.    63.  ]\n",
      " [  3.    22.  ]\n",
      " [ 46.    59.  ]\n",
      " [150.    60.  ]\n",
      " [  3.    28.  ]\n",
      " [130.    65.  ]\n",
      " [ 15.    25.  ]\n",
      " [130.    65.  ]\n",
      " [ 84.    47.  ]\n",
      " [190.    66.  ]\n",
      " [ 74.    45.  ]\n",
      " [ 73.    46.  ]\n",
      " [ 10.    24.  ]\n",
      " [ 50.    60.  ]\n",
      " [  7.    63.  ]\n",
      " [  9.5   27.  ]\n",
      " [ 15.2   66.  ]\n",
      " [ 28.6   36.  ]\n",
      " [ 20.    30.  ]\n",
      " [ 72.    51.  ]\n",
      " [ 81.    65.  ]\n",
      " [100.    45.  ]\n",
      " [ 90.    52.  ]\n",
      " [ 90.    54.  ]\n",
      " [ 35.    30.  ]\n",
      " [ 30.    52.  ]\n",
      " [ 25.    26.  ]\n",
      " [ 52.    49.  ]\n",
      " [  9.    22.  ]\n",
      " [ 63.    34.  ]\n",
      " [ 72.    60.  ]\n",
      " [ 16.    28.  ]\n",
      " [ 92.    58.  ]\n",
      " [106.    77.  ]\n",
      " [  2.5   67.  ]\n",
      " [  9.    27.  ]\n",
      " [ 32.    48.  ]\n",
      " [ 32.    45.  ]\n",
      " [ 55.    49.  ]\n",
      " [ 52.    36.  ]\n",
      " [ 28.    65.  ]\n",
      " [ 20.    32.  ]\n",
      " [ 14.7   49.  ]\n",
      " [ 22.3   67.  ]\n",
      " [ 34.8   22.  ]\n",
      " [ 84.    49.  ]\n",
      " [ 19.    43.  ]\n",
      " [160.    61.  ]\n",
      " [ 65.    43.  ]\n",
      " [ 55.    52.  ]\n",
      " [  4.6   51.  ]\n",
      " [102.    66.  ]\n",
      " [ 20.    29.  ]\n",
      " [ 62.    62.  ]\n",
      " [ 55.    56.  ]\n",
      " [ 45.6   61.  ]\n",
      " [ 40.    56.  ]\n",
      " [ 24.    41.  ]\n",
      " [ 35.    24.  ]\n",
      " [ 48.    60.  ]\n",
      " [ 20.    43.  ]\n",
      " [ 40.7   57.  ]\n",
      " [ 15.    23.  ]\n",
      " [  0.25  53.  ]\n",
      " [152.    71.  ]\n",
      " [ 39.8   20.  ]\n",
      " [ 12.    27.  ]\n",
      " [ 30.    69.  ]\n",
      " [120.    58.  ]\n",
      " [  1.7   37.  ]\n",
      " [ 36.    32.  ]\n",
      " [ 96.    33.  ]\n",
      " [ 38.    32.  ]\n",
      " [ 90.    60.  ]\n",
      " [  9.    71.  ]\n",
      " [ 25.8   30.  ]\n",
      " [ 22.    62.  ]\n",
      " [ 38.8   54.  ]\n",
      " [ 72.    42.  ]\n",
      " [ 89.    62.  ]\n",
      " [ 41.    51.  ]\n",
      " [ 89.    71.  ]\n",
      " [ 25.    29.  ]\n",
      " [ 52.    55.  ]\n",
      " [115.    54.  ]\n",
      " [ 66.    55.  ]\n",
      " [ 18.6   26.  ]\n",
      " [152.    56.  ]\n",
      " [  1.8   28.  ]\n",
      " [ 35.    44.  ]\n",
      " [  4.    24.  ]]\n"
     ]
    }
   ],
   "source": [
    "print(x)"
   ]
  },
  {
   "cell_type": "code",
   "execution_count": 6,
   "id": "1e60e883",
   "metadata": {},
   "outputs": [
    {
     "name": "stdout",
     "output_type": "stream",
     "text": [
      "[1 1 0 0 1 0 0 0 1 1 0 0 1 0 0 0 0 1 1 1 0 0 0 0 0 1 1 0 1 1 1 1 1 0 0 0 0\n",
      " 0 1 0 0 1 1 0 0 1 0 1 0 1 0 0 0 0 1 0 1 1 0 0 1 0 0 1 0 0 0 0 0 0 0 0 0 1\n",
      " 0 0 1 1 0 1 1 1 0 0 0 0 0 1 0 1 1 0 1 0 1 0 1 0 0 0]\n"
     ]
    }
   ],
   "source": [
    "print(y)"
   ]
  },
  {
   "cell_type": "code",
   "execution_count": 7,
   "id": "75b0b6be",
   "metadata": {},
   "outputs": [],
   "source": [
    "from sklearn.model_selection import train_test_split\n",
    "x_train, x_test, y_train, y_test = train_test_split(x, y, test_size=0.25, random_state=0)"
   ]
  },
  {
   "cell_type": "code",
   "execution_count": 8,
   "id": "7885b762",
   "metadata": {},
   "outputs": [
    {
     "name": "stdout",
     "output_type": "stream",
     "text": [
      "[[ 52.    36.  ]\n",
      " [ 60.    53.  ]\n",
      " [  4.    24.  ]\n",
      " [ 90.    60.  ]\n",
      " [ 30.    69.  ]\n",
      " [102.    66.  ]\n",
      " [ 96.    33.  ]\n",
      " [ 89.    71.  ]\n",
      " [ 48.    60.  ]\n",
      " [ 14.7   49.  ]\n",
      " [ 20.    30.  ]\n",
      " [190.    66.  ]\n",
      " [160.    61.  ]\n",
      " [ 55.    56.  ]\n",
      " [ 39.8   20.  ]\n",
      " [ 30.    65.  ]\n",
      " [ 20.    29.  ]\n",
      " [106.    77.  ]\n",
      " [ 92.    58.  ]\n",
      " [ 80.    53.  ]\n",
      " [ 15.    25.  ]\n",
      " [ 84.    47.  ]\n",
      " [ 16.    28.  ]\n",
      " [ 63.    34.  ]\n",
      " [ 30.    27.  ]\n",
      " [ 25.    29.  ]\n",
      " [  4.6   51.  ]\n",
      " [140.    47.  ]\n",
      " [ 30.    52.  ]\n",
      " [ 72.    51.  ]\n",
      " [ 20.    32.  ]\n",
      " [ 46.    59.  ]\n",
      " [ 25.    26.  ]\n",
      " [  7.    63.  ]\n",
      " [ 22.3   67.  ]\n",
      " [  3.    22.  ]\n",
      " [ 90.    52.  ]\n",
      " [ 24.    41.  ]\n",
      " [ 65.    43.  ]\n",
      " [ 36.    32.  ]\n",
      " [ 22.    62.  ]\n",
      " [ 90.    54.  ]\n",
      " [ 25.8   30.  ]\n",
      " [130.    65.  ]\n",
      " [ 41.    51.  ]\n",
      " [ 74.    45.  ]\n",
      " [ 81.    65.  ]\n",
      " [ 28.    65.  ]\n",
      " [  1.8   28.  ]\n",
      " [ 35.    44.  ]\n",
      " [ 20.    43.  ]\n",
      " [ 73.    46.  ]\n",
      " [ 66.    55.  ]\n",
      " [  0.25  53.  ]\n",
      " [120.    58.  ]\n",
      " [ 15.2   66.  ]\n",
      " [  9.    22.  ]\n",
      " [ 38.    32.  ]\n",
      " [ 32.    45.  ]\n",
      " [ 72.    60.  ]\n",
      " [ 40.    56.  ]\n",
      " [ 55.    52.  ]\n",
      " [150.    60.  ]\n",
      " [ 89.    62.  ]\n",
      " [ 40.7   57.  ]\n",
      " [ 72.    42.  ]\n",
      " [ 52.    49.  ]\n",
      " [ 10.    24.  ]\n",
      " [  9.    71.  ]\n",
      " [ 51.    63.  ]\n",
      " [152.    56.  ]\n",
      " [ 35.    24.  ]\n",
      " [ 45.6   61.  ]\n",
      " [ 55.    49.  ]\n",
      " [  9.    27.  ]]\n"
     ]
    }
   ],
   "source": [
    "print(x_train)"
   ]
  },
  {
   "cell_type": "code",
   "execution_count": 9,
   "id": "51049bbd",
   "metadata": {},
   "outputs": [
    {
     "data": {
      "text/plain": [
       "75"
      ]
     },
     "execution_count": 9,
     "metadata": {},
     "output_type": "execute_result"
    }
   ],
   "source": [
    "len(x_train)"
   ]
  },
  {
   "cell_type": "code",
   "execution_count": 10,
   "id": "60e6ba5a",
   "metadata": {},
   "outputs": [
    {
     "data": {
      "text/plain": [
       "100"
      ]
     },
     "execution_count": 10,
     "metadata": {},
     "output_type": "execute_result"
    }
   ],
   "source": [
    "len(x)"
   ]
  },
  {
   "cell_type": "code",
   "execution_count": 11,
   "id": "ad6a0c7f",
   "metadata": {},
   "outputs": [
    {
     "data": {
      "text/plain": [
       "25"
      ]
     },
     "execution_count": 11,
     "metadata": {},
     "output_type": "execute_result"
    }
   ],
   "source": [
    "len(x_test)"
   ]
  },
  {
   "cell_type": "code",
   "execution_count": 12,
   "id": "12f7d7bb",
   "metadata": {},
   "outputs": [
    {
     "data": {
      "text/plain": [
       "100"
      ]
     },
     "execution_count": 12,
     "metadata": {},
     "output_type": "execute_result"
    }
   ],
   "source": [
    "len(y)"
   ]
  },
  {
   "cell_type": "code",
   "execution_count": 13,
   "id": "af8c86a7",
   "metadata": {},
   "outputs": [
    {
     "data": {
      "text/plain": [
       "25"
      ]
     },
     "execution_count": 13,
     "metadata": {},
     "output_type": "execute_result"
    }
   ],
   "source": [
    "len(y_test)"
   ]
  },
  {
   "cell_type": "code",
   "execution_count": 14,
   "id": "0ead21f9",
   "metadata": {},
   "outputs": [
    {
     "data": {
      "text/plain": [
       "75"
      ]
     },
     "execution_count": 14,
     "metadata": {},
     "output_type": "execute_result"
    }
   ],
   "source": [
    "len(y_train)"
   ]
  },
  {
   "cell_type": "code",
   "execution_count": 15,
   "id": "5b8b6e49",
   "metadata": {},
   "outputs": [],
   "source": [
    "from sklearn.preprocessing import StandardScaler\n",
    "sc = StandardScaler()\n",
    "x_train = sc.fit_transform(x_train)\n",
    "x_test = sc.transform(x_test)"
   ]
  },
  {
   "cell_type": "code",
   "execution_count": 16,
   "id": "7c6be2ed",
   "metadata": {},
   "outputs": [
    {
     "name": "stdout",
     "output_type": "stream",
     "text": [
      "[[-0.04344611 -0.80584637]\n",
      " [ 0.1485809   0.32820895]\n",
      " [-1.19560818 -1.60635602]\n",
      " [ 0.86868219  0.79517291]\n",
      " [-0.57152039  1.39555514]\n",
      " [ 1.15672271  1.19542773]\n",
      " [ 1.01270245 -1.00597378]\n",
      " [ 0.84467881  1.52897342]\n",
      " [-0.13945962  0.79517291]\n",
      " [-0.93877205  0.06137241]\n",
      " [-0.81155416 -1.20610119]\n",
      " [ 3.26901983  1.19542773]\n",
      " [ 2.54891854  0.86188205]\n",
      " [ 0.02856402  0.52833636]\n",
      " [-0.3362873  -1.87319256]\n",
      " [-0.57152039  1.1287186 ]\n",
      " [-0.81155416 -1.27281033]\n",
      " [ 1.25273621  1.92922824]\n",
      " [ 0.91668894  0.66175464]\n",
      " [ 0.62864843  0.32820895]\n",
      " [-0.93157104 -1.53964688]\n",
      " [ 0.72466193 -0.07204587]\n",
      " [-0.90756766 -1.33951947]\n",
      " [ 0.22059103 -0.93926465]\n",
      " [-0.57152039 -1.4062286 ]\n",
      " [-0.69153727 -1.27281033]\n",
      " [-1.18120615  0.19479068]\n",
      " [ 2.06885101 -0.07204587]\n",
      " [-0.57152039  0.26149982]\n",
      " [ 0.43662142  0.19479068]\n",
      " [-0.81155416 -1.07268292]\n",
      " [-0.18746637  0.72846377]\n",
      " [-0.69153727 -1.47293774]\n",
      " [-1.12359805  0.99530032]\n",
      " [-0.75634639  1.26213687]\n",
      " [-1.21961155 -1.73977429]\n",
      " [ 0.86868219  0.26149982]\n",
      " [-0.71554065 -0.47230069]\n",
      " [ 0.26859778 -0.33888242]\n",
      " [-0.42750013 -1.07268292]\n",
      " [-0.7635474   0.92859118]\n",
      " [ 0.86868219  0.39491809]\n",
      " [-0.67233457 -1.20610119]\n",
      " [ 1.82881725  1.1287186 ]\n",
      " [-0.30748325  0.19479068]\n",
      " [ 0.48462817 -0.20546414]\n",
      " [ 0.6526518   1.1287186 ]\n",
      " [-0.61952714  1.1287186 ]\n",
      " [-1.24841561 -1.33951947]\n",
      " [-0.45150351 -0.27217328]\n",
      " [-0.81155416 -0.33888242]\n",
      " [ 0.46062479 -0.138755  ]\n",
      " [ 0.29260116  0.46162723]\n",
      " [-1.28562084  0.32820895]\n",
      " [ 1.58878348  0.66175464]\n",
      " [-0.92677036  1.19542773]\n",
      " [-1.0755913  -1.73977429]\n",
      " [-0.37949338 -1.07268292]\n",
      " [-0.52351364 -0.20546414]\n",
      " [ 0.43662142  0.79517291]\n",
      " [-0.33148663  0.52833636]\n",
      " [ 0.02856402  0.26149982]\n",
      " [ 2.30888477  0.79517291]\n",
      " [ 0.84467881  0.92859118]\n",
      " [-0.31468426  0.5950455 ]\n",
      " [ 0.43662142 -0.40559155]\n",
      " [-0.04344611  0.06137241]\n",
      " [-1.05158792 -1.60635602]\n",
      " [-1.0755913   1.52897342]\n",
      " [-0.06744949  0.99530032]\n",
      " [ 2.35689153  0.52833636]\n",
      " [-0.45150351 -1.60635602]\n",
      " [-0.19706772  0.86188205]\n",
      " [ 0.02856402  0.06137241]\n",
      " [-1.0755913  -1.4062286 ]]\n"
     ]
    }
   ],
   "source": [
    "print(x_train)"
   ]
  },
  {
   "cell_type": "code",
   "execution_count": 17,
   "id": "bda34371",
   "metadata": {},
   "outputs": [
    {
     "name": "stdout",
     "output_type": "stream",
     "text": [
      "[[-0.60512512 -0.80584637]\n",
      " [-0.36029068  0.39491809]\n",
      " [-0.44910317  0.52833636]\n",
      " [-0.83555753 -0.33888242]\n",
      " [-1.00358117 -1.4062286 ]\n",
      " [ 1.4687666   0.39491809]\n",
      " [ 1.82881725  1.1287186 ]\n",
      " [ 2.35689153  1.52897342]\n",
      " [ 0.72466193  0.06137241]\n",
      " [-0.84515888 -1.47293774]\n",
      " [-0.45630418 -1.73977429]\n",
      " [-0.04344611  0.46162723]\n",
      " [-1.25081594 -0.73913724]\n",
      " [-1.21961155 -1.33951947]\n",
      " [-0.54511668 -1.20610119]\n",
      " [ 1.10871595 -0.20546414]\n",
      " [-0.09145286  0.79517291]\n",
      " [-1.06358961 -1.4062286 ]\n",
      " [-0.45150351 -1.20610119]\n",
      " [ 1.70880036 -0.27217328]\n",
      " [-1.23161324  1.26213687]\n",
      " [ 0.19658765  0.92859118]\n",
      " [-0.57152039 -1.67306515]\n",
      " [-0.93157104 -1.67306515]\n",
      " [-0.52351364 -0.00533673]]\n"
     ]
    }
   ],
   "source": [
    "print(x_test)"
   ]
  },
  {
   "cell_type": "code",
   "execution_count": 18,
   "id": "15f9795d",
   "metadata": {},
   "outputs": [
    {
     "data": {
      "text/plain": [
       "KNeighborsClassifier()"
      ]
     },
     "execution_count": 18,
     "metadata": {},
     "output_type": "execute_result"
    }
   ],
   "source": [
    "from sklearn.neighbors import KNeighborsClassifier\n",
    "classifier = KNeighborsClassifier(n_neighbors = 5, metric = 'minkowski', p = 2)\n",
    "classifier.fit(x_train, y_train)"
   ]
  },
  {
   "cell_type": "code",
   "execution_count": 19,
   "id": "2f3aef78",
   "metadata": {},
   "outputs": [],
   "source": [
    "y_pred = classifier.predict(x_test)"
   ]
  },
  {
   "cell_type": "code",
   "execution_count": 20,
   "id": "e77d0d37",
   "metadata": {},
   "outputs": [
    {
     "name": "stdout",
     "output_type": "stream",
     "text": [
      "[[16  2]\n",
      " [ 3  4]]\n"
     ]
    }
   ],
   "source": [
    "from sklearn.metrics import confusion_matrix\n",
    "cm = confusion_matrix(y_test, y_pred)\n",
    "print(cm)"
   ]
  },
  {
   "cell_type": "code",
   "execution_count": 21,
   "id": "c72285dd",
   "metadata": {},
   "outputs": [
    {
     "name": "stderr",
     "output_type": "stream",
     "text": [
      "*c* argument looks like a single numeric RGB or RGBA sequence, which should be avoided as value-mapping will have precedence in case its length matches with *x* & *y*.  Please use the *color* keyword-argument or provide a 2D array with a single row if you intend to specify the same RGB or RGBA value for all points.\n",
      "*c* argument looks like a single numeric RGB or RGBA sequence, which should be avoided as value-mapping will have precedence in case its length matches with *x* & *y*.  Please use the *color* keyword-argument or provide a 2D array with a single row if you intend to specify the same RGB or RGBA value for all points.\n"
     ]
    },
    {
     "data": {
      "image/png": "[encoded data removed]",
      "text/plain": [
       "<Figure size 432x288 with 1 Axes>"
      ]
     },
     "metadata": {
      "needs_background": "light"
     },
     "output_type": "display_data"
    }
   ],
   "source": [
    "from matplotlib.colors import ListedColormap\n",
    "x_set, y_set = x_train, y_train\n",
    "x1, x2 = np.meshgrid(np.arange(start = x_set[:, 0].min()-1, stop = x_set[:, 0].max() + 1, step=0.01),\n",
    "                     np.arange(start = x_set[:, 1].min()-1, stop = x_set[:, 0].max() + 1, step=0.01))\n",
    "plt.contourf(x1,x2, classifier.predict(np.array([x1.ravel(), x2.ravel()]).T).reshape(x1.shape),\n",
    "             alpha = 0.75, cmap = ListedColormap(('red', 'green')))\n",
    "plt.xlim(x1.min(), x1.max())\n",
    "plt.xlim(x2.min(), x2.max())\n",
    "for i, j in enumerate (np.unique(y_set)):\n",
    "    plt.scatter(x_set[y_set == j, 0], x_set[y_set==j, 1],\n",
    "               c = ListedColormap(('red', 'green'))(i), label = j)\n",
    "plt.title('Klasifikasi Data dengan K-NN (Training set)')\n",
    "plt.xlabel('gaji')\n",
    "plt.ylabel('umur')\n",
    "plt.legend()\n",
    "plt.show()"
   ]
  },
  {
   "cell_type": "code",
   "execution_count": null,
   "id": "57d797a0",
   "metadata": {},
   "outputs": [],
   "source": []
  }
 ],
 "metadata": {
  "kernelspec": {
   "display_name": "Python 3 (ipykernel)",
   "language": "python",
   "name": "python3"
  },
  "language_info": {
   "codemirror_mode": {
    "name": "ipython",
    "version": 3
   },
   "file_extension": ".py",
   "mimetype": "text/x-python",
   "name": "python",
   "nbconvert_exporter": "python",
   "pygments_lexer": "ipython3",
   "version": "3.9.7"
  }
 },
 "nbformat": 4,
 "nbformat_minor": 5
}
